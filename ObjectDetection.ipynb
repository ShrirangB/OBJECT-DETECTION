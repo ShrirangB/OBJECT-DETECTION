{
 "cells": [
  {
   "cell_type": "code",
   "execution_count": 1,
   "id": "87abcb12",
   "metadata": {},
   "outputs": [
    {
     "name": "stdout",
     "output_type": "stream",
     "text": [
      "['person', 'bicycle', 'car', 'motorbike', 'aeroplane', 'bus', 'train', 'truck', 'boat', 'traffic light', 'fire hydrant', 'stop sign', 'parking meter', 'bench', 'bird', 'cat', 'dog', 'horse', 'sheep', 'cow', 'elephant', 'bear', 'zebra', 'giraffe', 'backpack', 'umbrella', 'handbag', 'tie', 'suitcase', 'frisbee', 'skis', 'snowboard', 'sports ball', 'kite', 'baseball bat', 'baseball glove', 'skateboard', 'surfboard', 'tennis racket', 'bottle', 'wine glass', 'cup', 'fork', 'knife', 'spoon', 'bowl', 'banana', 'apple', 'sandwich', 'orange', 'broccoli', 'carrot', 'hot dog', 'pizza', 'donut', 'cake', 'chair', 'sofa', 'pottedplant', 'bed', 'diningtable', 'toilet', 'tvmonitor', 'laptop', 'mouse', 'remote', 'keyboard', 'cell phone', 'microwave', 'oven', 'toaster', 'sink', 'refrigerator', 'book', 'clock', 'vase', 'scissors', 'teddy bear', 'hair drier', 'toothbrush'] 80\n"
     ]
    },
    {
     "data": {
      "text/plain": [
       "\"\\n\\nimg = cv.imread(r'Image_path')\\nrgb = cv.cvtColor(img, cv.COLOR_BGR2RGB)\\nplt.imshow(rgb);\\n\\n\\nClassIndex, confidence, bbox = model.detect(rgb,confThreshold=0.5)\\n\\nfont_scale = 1.1\\nfont = cv.FONT_HERSHEY_COMPLEX\\nfor ClassInd,conf,boxes in zip(ClassIndex.flatten(),confidence.flatten(),bbox):\\n    cv.rectangle(img,boxes,(255,0,0),2)\\n    cv.putText(img,classNames[ClassInd-1],(boxes[0]+10,boxes[1]+40),font, fontScale=font_scale, color = (0,255,0),thickness = 3)\\ncv.imshow('output',img);\\ncv.waitKey(0)\\n\\n\""
      ]
     },
     "execution_count": 1,
     "metadata": {},
     "output_type": "execute_result"
    }
   ],
   "source": [
    "import cv2 as cv\n",
    "import matplotlib.pyplot as plt\n",
    "\n",
    "\n",
    "# Loading the model \n",
    "\n",
    "configFile = r'ssd_mobilenet_v3_large_coco_2020_01_14.pbtxt'\n",
    "frozenModel = r'frozen_inference_graph.pb'\n",
    "model = cv.dnn_DetectionModel(frozenModel,configFile)\n",
    "\n",
    "# Creating the class file\n",
    "\n",
    "classFile = r'coco.names'\n",
    "classNames = []\n",
    "with open(classFile, 'rt') as f:\n",
    "    classNames = f.read().rstrip('\\n').split('\\n')\n",
    "print(classNames, len(classNames)) #classNames ==> Contains all the 80 classes from the coco dataset\n",
    "\n",
    "#  Setting up the configuration of the model\n",
    "\n",
    "model.setInputSize(320,320)\n",
    "model.setInputScale(1.0/127.5)\n",
    "model.setInputMean((127.5,127.5,127.5))\n",
    "model.setInputSwapRB(True)\n",
    "\n",
    "\n",
    "#  Capturing the Video\n",
    "\n",
    "cap = cv.VideoCapture(r'traffic.mp4')\n",
    "#cap = cv.VideoCapture(0) ==> webcam\n",
    "if not cap.isOpened():\n",
    "    raise IOError(\"Cannot Open Video\")\n",
    "\n",
    "\n",
    "#Setting the font scale and font style\n",
    "\n",
    "font_scale = 1.1\n",
    "font = cv.FONT_HERSHEY_COMPLEX\n",
    "# Reading each frame and detecting the objects in it\n",
    "\n",
    "while True:\n",
    "    ret,frame = cap.read()\n",
    "    ClassIndex, confidence, bbox = model.detect(frame,confThreshold=0.62)\n",
    "    if len(ClassIndex)!= 0:\n",
    "        for ClassInd,conf,boxes in zip(ClassIndex.flatten(),confidence.flatten(),bbox):\n",
    "            if ClassInd <= 80:\n",
    "                cv.rectangle(frame,boxes,(255,0,0),2)\n",
    "                cv.putText(frame,classNames[ClassInd-1],(boxes[0]+10,boxes[1]+40),font, fontScale=font_scale, color = (0,255,0),thickness = 3)\n",
    "    cv.imshow(\"output\",frame)\n",
    "    if cv.waitKey(2) & 0xFF == ord('q'):\n",
    "        break  #breaks out of the loop as soon as we press 'q' from our keyboard\n",
    "cap.release()\n",
    "cv.destroyAllWindows()\n",
    "\n",
    "\n",
    "# # For an image\n",
    "'''\n",
    "\n",
    "img = cv.imread(r'Image_path')\n",
    "rgb = cv.cvtColor(img, cv.COLOR_BGR2RGB)\n",
    "plt.imshow(rgb);\n",
    "\n",
    "\n",
    "ClassIndex, confidence, bbox = model.detect(rgb,confThreshold=0.5)\n",
    "\n",
    "font_scale = 1.1\n",
    "font = cv.FONT_HERSHEY_COMPLEX\n",
    "for ClassInd,conf,boxes in zip(ClassIndex.flatten(),confidence.flatten(),bbox):\n",
    "    cv.rectangle(img,boxes,(255,0,0),2)\n",
    "    cv.putText(img,classNames[ClassInd-1],(boxes[0]+10,boxes[1]+40),font, fontScale=font_scale, color = (0,255,0),thickness = 3)\n",
    "cv.imshow('output',img);\n",
    "cv.waitKey(0)\n",
    "\n",
    "'''"
   ]
  },
  {
   "cell_type": "code",
   "execution_count": null,
   "id": "fb3ed640",
   "metadata": {},
   "outputs": [],
   "source": []
  }
 ],
 "metadata": {
  "kernelspec": {
   "display_name": "Python 3",
   "language": "python",
   "name": "python3"
  },
  "language_info": {
   "codemirror_mode": {
    "name": "ipython",
    "version": 3
   },
   "file_extension": ".py",
   "mimetype": "text/x-python",
   "name": "python",
   "nbconvert_exporter": "python",
   "pygments_lexer": "ipython3",
   "version": "3.8.8"
  }
 },
 "nbformat": 4,
 "nbformat_minor": 5
}
